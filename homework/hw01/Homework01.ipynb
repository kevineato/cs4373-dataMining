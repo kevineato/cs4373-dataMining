{
 "cells": [
  {
   "cell_type": "code",
   "execution_count": 185,
   "metadata": {
    "collapsed": true
   },
   "outputs": [],
   "source": [
    "import pandas as pd"
   ]
  },
  {
   "cell_type": "code",
   "execution_count": 186,
   "metadata": {
    "collapsed": true
   },
   "outputs": [],
   "source": [
    "def get_mean(series):\n",
    "    return series.mean()"
   ]
  },
  {
   "cell_type": "code",
   "execution_count": 187,
   "metadata": {
    "collapsed": true
   },
   "outputs": [],
   "source": [
    "def get_midrange(series):\n",
    "    return (series.min() + series.max()) / 2"
   ]
  },
  {
   "cell_type": "code",
   "execution_count": 188,
   "metadata": {
    "collapsed": true
   },
   "outputs": [],
   "source": [
    "def get_mode(series):\n",
    "    return series.mode().values"
   ]
  },
  {
   "cell_type": "code",
   "execution_count": 189,
   "metadata": {
    "collapsed": true
   },
   "outputs": [],
   "source": [
    "def get_modality(mode_arr):\n",
    "    count = mode_arr.size\n",
    "    if count == 1:\n",
    "        return \"Unimodal\"\n",
    "    elif count == 2:\n",
    "        return \"Bimodal\"\n",
    "    elif count == 3:\n",
    "        return \"Trimodal\"\n",
    "    else:\n",
    "        return \"Multimodal\""
   ]
  },
  {
   "cell_type": "code",
   "execution_count": 190,
   "metadata": {
    "collapsed": true
   },
   "outputs": [],
   "source": [
    "def five_num_summ(series):\n",
    "    summ = pd.Series(0.0, index=['min', 'lowq', 'med', 'upq', 'max'])\n",
    "    summ['min'] = series.min()\n",
    "    summ['lowq'] = series.quantile(0.25)\n",
    "    summ['med'] = series.median()\n",
    "    summ['upq'] = series.quantile(0.75)\n",
    "    summ['max'] = series.max()\n",
    "    \n",
    "    return summ"
   ]
  },
  {
   "cell_type": "code",
   "execution_count": 191,
   "metadata": {
    "collapsed": true
   },
   "outputs": [],
   "source": [
    "def eq_depth_bin(series, depth, by='none'):\n",
    "    bins = pd.qcut(series, depth, duplicates='drop')\n",
    "    return bins"
   ]
  },
  {
   "cell_type": "code",
   "execution_count": 192,
   "metadata": {
    "collapsed": true
   },
   "outputs": [],
   "source": [
    "def q1_data_statistics(data):   \n",
    "    print(\"Q1. Data Statistics\")\n",
    "    for col in data.loc[:, ['C', 'D', 'E', 'F']]:\n",
    "        series = data[col]\n",
    "        mean = get_mean(series)\n",
    "        midrange = get_midrange(series)\n",
    "        mode = get_mode(series)\n",
    "        if mode.size == series.size:\n",
    "            modality = \"No mode\"\n",
    "            mode = []\n",
    "        else:\n",
    "            modality = get_modality(mode)\n",
    "\n",
    "        summary = five_num_summ(series)\n",
    "        print(\"Column: {}\".format(col))\n",
    "        print(\"    Mean: {:.4f}\".format(mean))\n",
    "        print(\"    Midrange: {:.4f}\".format(midrange))\n",
    "        print(\"    Mode: [ \", end='')\n",
    "        for val in mode:\n",
    "            print(\"{:.4f} \".format(val), end='')\n",
    "        print(\"]\")\n",
    "        print(\"    Modality: {}\".format(modality))\n",
    "        print(\"    Five Number Summary:\")\n",
    "        for (ind, item) in summary.iteritems():\n",
    "            print(\"        {}: {:.4f}\".format(ind, item))\n",
    "        print(\"\\n\")"
   ]
  },
  {
   "cell_type": "code",
   "execution_count": 193,
   "metadata": {
    "collapsed": true
   },
   "outputs": [],
   "source": [
    "def q2_smoothing(data):\n",
    "    col = data.loc[:, ['F']]\n",
    "    bins = eq_depth_bin(col.values.ravel(), 100)"
   ]
  },
  {
   "cell_type": "code",
   "execution_count": 194,
   "metadata": {
    "collapsed": true
   },
   "outputs": [],
   "source": [
    "#file_name = input(\"Enter name of file containing data: \")\n",
    "file_name = \"hwk01.csv\"\n",
    "df = pd.read_csv(file_name)"
   ]
  },
  {
   "cell_type": "code",
   "execution_count": 195,
   "metadata": {},
   "outputs": [
    {
     "name": "stdout",
     "output_type": "stream",
     "text": [
      "Q1. Data Statistics\n",
      "Column: C\n",
      "    Mean: 5184.6630\n",
      "    Midrange: 5037.0000\n",
      "    Mode: [ 589.0000 6930.0000 ]\n",
      "    Modality: Bimodal\n",
      "    Five Number Summary:\n",
      "        min: 78.0000\n",
      "        lowq: 2795.5000\n",
      "        med: 5180.0000\n",
      "        upq: 7557.2500\n",
      "        max: 9996.0000\n",
      "\n",
      "\n",
      "Column: D\n",
      "    Mean: -0.0348\n",
      "    Midrange: -0.0138\n",
      "    Mode: [ ]\n",
      "    Modality: No mode\n",
      "    Five Number Summary:\n",
      "        min: -3.2984\n",
      "        lowq: -0.7186\n",
      "        med: -0.0454\n",
      "        upq: 0.6769\n",
      "        max: 3.2708\n",
      "\n",
      "\n",
      "Column: E\n",
      "    Mean: 15.4567\n",
      "    Midrange: 19.1057\n",
      "    Mode: [ ]\n",
      "    Modality: No mode\n",
      "    Five Number Summary:\n",
      "        min: -16.4951\n",
      "        lowq: 8.5649\n",
      "        med: 15.4411\n",
      "        upq: 22.4839\n",
      "        max: 54.7065\n",
      "\n",
      "\n",
      "Column: F\n",
      "    Mean: 5.9200\n",
      "    Midrange: 6.0000\n",
      "    Mode: [ 6.0000 ]\n",
      "    Modality: Unimodal\n",
      "    Five Number Summary:\n",
      "        min: 1.0000\n",
      "        lowq: 3.0000\n",
      "        med: 6.0000\n",
      "        upq: 9.0000\n",
      "        max: 11.0000\n",
      "\n",
      "\n",
      "(0.999, 2.0]    175\n",
      "(2.0, 3.0]       98\n",
      "(3.0, 4.0]      100\n",
      "(4.0, 5.0]       85\n",
      "(5.0, 6.0]      110\n",
      "(6.0, 7.0]       89\n",
      "(7.0, 8.0]       80\n",
      "(8.0, 9.0]       93\n",
      "(9.0, 9.17]       0\n",
      "(9.17, 10.0]     85\n",
      "(10.0, 11.0]     85\n",
      "dtype: int64\n"
     ]
    }
   ],
   "source": [
    "q1_data_statistics(df)\n",
    "q2_smoothing(df)"
   ]
  }
 ],
 "metadata": {
  "kernelspec": {
   "display_name": "Python 3",
   "language": "python",
   "name": "python3"
  },
  "language_info": {
   "codemirror_mode": {
    "name": "ipython",
    "version": 3
   },
   "file_extension": ".py",
   "mimetype": "text/x-python",
   "name": "python",
   "nbconvert_exporter": "python",
   "pygments_lexer": "ipython3",
   "version": "3.6.3"
  }
 },
 "nbformat": 4,
 "nbformat_minor": 2
}
