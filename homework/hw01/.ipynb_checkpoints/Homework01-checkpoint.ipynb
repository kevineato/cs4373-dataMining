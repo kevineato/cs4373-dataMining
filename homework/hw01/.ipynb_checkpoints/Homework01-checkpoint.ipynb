{
 "cells": [
  {
   "cell_type": "code",
   "execution_count": 198,
   "metadata": {
    "collapsed": true
   },
   "outputs": [],
   "source": [
    "import numpy as np\n",
    "import pandas as pd\n",
    "from scipy.stats import binned_statistic"
   ]
  },
  {
   "cell_type": "code",
   "execution_count": 199,
   "metadata": {
    "collapsed": true
   },
   "outputs": [],
   "source": [
    "def get_mean(series):\n",
    "    return series.mean()"
   ]
  },
  {
   "cell_type": "code",
   "execution_count": 200,
   "metadata": {
    "collapsed": true
   },
   "outputs": [],
   "source": [
    "def get_midrange(series):\n",
    "    return (series.min() + series.max()) / 2"
   ]
  },
  {
   "cell_type": "code",
   "execution_count": 201,
   "metadata": {
    "collapsed": true
   },
   "outputs": [],
   "source": [
    "def get_mode(series):\n",
    "    return series.mode().values"
   ]
  },
  {
   "cell_type": "code",
   "execution_count": 202,
   "metadata": {
    "collapsed": true
   },
   "outputs": [],
   "source": [
    "def get_modality(mode_arr):\n",
    "    count = mode_arr.size\n",
    "    if count == 1:\n",
    "        return \"Unimodal\"\n",
    "    elif count == 2:\n",
    "        return \"Bimodal\"\n",
    "    elif count == 3:\n",
    "        return \"Trimodal\"\n",
    "    else:\n",
    "        return \"Multimodal\""
   ]
  },
  {
   "cell_type": "code",
   "execution_count": 203,
   "metadata": {
    "collapsed": true
   },
   "outputs": [],
   "source": [
    "def five_num_summ(series):\n",
    "    summ = pd.Series(0.0, index=['min', 'lowq', 'med', 'upq', 'max'])\n",
    "    summ['min'] = series.min()\n",
    "    summ['lowq'] = series.quantile(0.25)\n",
    "    summ['med'] = series.median()\n",
    "    summ['upq'] = series.quantile(0.75)\n",
    "    summ['max'] = series.max()\n",
    "    \n",
    "    return summ"
   ]
  },
  {
   "cell_type": "code",
   "execution_count": 204,
   "metadata": {
    "collapsed": true
   },
   "outputs": [],
   "source": [
    "def eq_depth_bin(series, depth, by='none'):\n",
    "    if len(series) % depth != 0:\n",
    "        return None\n",
    "    num_bins = int(len(series) / depth)\n",
    "    sorted_series = series.sort_values().values\n",
    "    binned = pd.DataFrame(np.zeros((num_bins, depth)))\n",
    "    for i in range(num_bins):\n",
    "        if by == 'boundary':\n",
    "            beg_bound = sorted_series[depth * i]\n",
    "            end_bound = sorted_series[depth * i + (depth - 1)]\n",
    "            \n",
    "        for j in range(depth):\n",
    "            curr_val = sorted_series[depth * i + j]\n",
    "            \n",
    "            if by == 'boundary':\n",
    "                if abs(curr_val - beg_bound) <= abs(curr_val - end_bound):\n",
    "                    binned.loc[i, j] = beg_bound\n",
    "                else:\n",
    "                    binned.loc[i, j] = end_bound\n",
    "            else:\n",
    "                binned.loc[i, j] = curr_val\n",
    "            \n",
    "        if by == 'mean':\n",
    "            binned.loc[i] = binned.loc[i].mean()\n",
    "    \n",
    "    return binned"
   ]
  },
  {
   "cell_type": "code",
   "execution_count": null,
   "metadata": {
    "collapsed": true
   },
   "outputs": [],
   "source": [
    "def eq_width_by_med_bin(series):"
   ]
  },
  {
   "cell_type": "code",
   "execution_count": 205,
   "metadata": {
    "collapsed": true
   },
   "outputs": [],
   "source": [
    "def q1_data_statistics(data):   \n",
    "    print(\"Q1. Data Statistics\")\n",
    "    for col in data.loc[:, ['C', 'D', 'E', 'F']]:\n",
    "        series = data[col]\n",
    "        mean = get_mean(series)\n",
    "        midrange = get_midrange(series)\n",
    "        mode = get_mode(series)\n",
    "        if mode.size == series.size:\n",
    "            modality = \"No mode\"\n",
    "            mode = []\n",
    "        else:\n",
    "            modality = get_modality(mode)\n",
    "\n",
    "        summary = five_num_summ(series)\n",
    "        print(\"Column: {}\".format(col))\n",
    "        print(\"    Mean: {:.4f}\".format(mean))\n",
    "        print(\"    Midrange: {:.4f}\".format(midrange))\n",
    "        print(\"    Mode: [ \", end='')\n",
    "        for val in mode:\n",
    "            print(\"{:.4f} \".format(val), end='')\n",
    "        print(\"]\")\n",
    "        print(\"    Modality: {}\".format(modality))\n",
    "        print(\"    Five Number Summary:\")\n",
    "        for (ind, item) in summary.iteritems():\n",
    "            print(\"        {}: {:.4f}\".format(ind, item))\n",
    "        print(\"\\n\")"
   ]
  },
  {
   "cell_type": "code",
   "execution_count": 206,
   "metadata": {
    "collapsed": true
   },
   "outputs": [],
   "source": [
    "def q2_smoothing(data):\n",
    "    col = data.loc[:, 'F'].copy()\n",
    "    binned_mean = eq_depth_bin(col, 100, 'mean')\n",
    "    binned_bound = eq_depth_bin(col, 100, 'boundary')\n",
    "    \n",
    "    print(binned_mean)\n",
    "    print(binned_bound)"
   ]
  },
  {
   "cell_type": "code",
   "execution_count": 207,
   "metadata": {
    "collapsed": true
   },
   "outputs": [],
   "source": [
    "#file_name = input(\"Enter name of file containing data: \")\n",
    "file_name = \"hwk01.csv\"\n",
    "df = pd.read_csv(file_name)"
   ]
  },
  {
   "cell_type": "code",
   "execution_count": 208,
   "metadata": {},
   "outputs": [
    {
     "name": "stdout",
     "output_type": "stream",
     "text": [
      "Q1. Data Statistics\n",
      "Column: C\n",
      "    Mean: 5184.6630\n",
      "    Midrange: 5037.0000\n",
      "    Mode: [ 589.0000 6930.0000 ]\n",
      "    Modality: Bimodal\n",
      "    Five Number Summary:\n",
      "        min: 78.0000\n",
      "        lowq: 2795.5000\n",
      "        med: 5180.0000\n",
      "        upq: 7557.2500\n",
      "        max: 9996.0000\n",
      "\n",
      "\n",
      "Column: D\n",
      "    Mean: -0.0348\n",
      "    Midrange: -0.0138\n",
      "    Mode: [ ]\n",
      "    Modality: No mode\n",
      "    Five Number Summary:\n",
      "        min: -3.2984\n",
      "        lowq: -0.7186\n",
      "        med: -0.0454\n",
      "        upq: 0.6769\n",
      "        max: 3.2708\n",
      "\n",
      "\n",
      "Column: E\n",
      "    Mean: 15.4567\n",
      "    Midrange: 19.1057\n",
      "    Mode: [ ]\n",
      "    Modality: No mode\n",
      "    Five Number Summary:\n",
      "        min: -16.4951\n",
      "        lowq: 8.5649\n",
      "        med: 15.4411\n",
      "        upq: 22.4839\n",
      "        max: 54.7065\n",
      "\n",
      "\n",
      "Column: F\n",
      "    Mean: 5.9200\n",
      "    Midrange: 6.0000\n",
      "    Mode: [ 6.0000 ]\n",
      "    Modality: Unimodal\n",
      "    Five Number Summary:\n",
      "        min: 1.0000\n",
      "        lowq: 3.0000\n",
      "        med: 6.0000\n",
      "        upq: 9.0000\n",
      "        max: 11.0000\n",
      "\n",
      "\n",
      "      0      1      2      3      4      5      6      7      8      9   \\\n",
      "0   1.06   1.06   1.06   1.06   1.06   1.06   1.06   1.06   1.06   1.06   \n",
      "1   2.25   2.25   2.25   2.25   2.25   2.25   2.25   2.25   2.25   2.25   \n",
      "2   3.27   3.27   3.27   3.27   3.27   3.27   3.27   3.27   3.27   3.27   \n",
      "3   4.27   4.27   4.27   4.27   4.27   4.27   4.27   4.27   4.27   4.27   \n",
      "4   5.42   5.42   5.42   5.42   5.42   5.42   5.42   5.42   5.42   5.42   \n",
      "5   6.32   6.32   6.32   6.32   6.32   6.32   6.32   6.32   6.32   6.32   \n",
      "6   7.43   7.43   7.43   7.43   7.43   7.43   7.43   7.43   7.43   7.43   \n",
      "7   8.63   8.63   8.63   8.63   8.63   8.63   8.63   8.63   8.63   8.63   \n",
      "8   9.70   9.70   9.70   9.70   9.70   9.70   9.70   9.70   9.70   9.70   \n",
      "9  10.85  10.85  10.85  10.85  10.85  10.85  10.85  10.85  10.85  10.85   \n",
      "\n",
      "   ...       90     91     92     93     94     95     96     97     98     99  \n",
      "0  ...     1.06   1.06   1.06   1.06   1.06   1.06   1.06   1.06   1.06   1.06  \n",
      "1  ...     2.25   2.25   2.25   2.25   2.25   2.25   2.25   2.25   2.25   2.25  \n",
      "2  ...     3.27   3.27   3.27   3.27   3.27   3.27   3.27   3.27   3.27   3.27  \n",
      "3  ...     4.27   4.27   4.27   4.27   4.27   4.27   4.27   4.27   4.27   4.27  \n",
      "4  ...     5.42   5.42   5.42   5.42   5.42   5.42   5.42   5.42   5.42   5.42  \n",
      "5  ...     6.32   6.32   6.32   6.32   6.32   6.32   6.32   6.32   6.32   6.32  \n",
      "6  ...     7.43   7.43   7.43   7.43   7.43   7.43   7.43   7.43   7.43   7.43  \n",
      "7  ...     8.63   8.63   8.63   8.63   8.63   8.63   8.63   8.63   8.63   8.63  \n",
      "8  ...     9.70   9.70   9.70   9.70   9.70   9.70   9.70   9.70   9.70   9.70  \n",
      "9  ...    10.85  10.85  10.85  10.85  10.85  10.85  10.85  10.85  10.85  10.85  \n",
      "\n",
      "[10 rows x 100 columns]\n",
      "     0     1     2     3     4     5     6     7     8     9   ...     90  \\\n",
      "0   1.0   1.0   1.0   1.0   1.0   1.0   1.0   1.0   1.0   1.0  ...    1.0   \n",
      "1   2.0   2.0   2.0   2.0   2.0   2.0   2.0   2.0   2.0   2.0  ...    3.0   \n",
      "2   3.0   3.0   3.0   3.0   3.0   3.0   3.0   3.0   3.0   3.0  ...    4.0   \n",
      "3   4.0   4.0   4.0   4.0   4.0   4.0   4.0   4.0   4.0   4.0  ...    5.0   \n",
      "4   5.0   5.0   5.0   5.0   5.0   5.0   5.0   5.0   5.0   5.0  ...    6.0   \n",
      "5   6.0   6.0   6.0   6.0   6.0   6.0   6.0   6.0   6.0   6.0  ...    7.0   \n",
      "6   7.0   7.0   7.0   7.0   7.0   7.0   7.0   7.0   7.0   7.0  ...    8.0   \n",
      "7   8.0   8.0   8.0   8.0   8.0   8.0   8.0   8.0   8.0   8.0  ...    9.0   \n",
      "8   9.0   9.0   9.0   9.0   9.0   9.0   9.0   9.0   9.0   9.0  ...   10.0   \n",
      "9  10.0  10.0  10.0  10.0  10.0  10.0  10.0  10.0  10.0  10.0  ...   11.0   \n",
      "\n",
      "     91    92    93    94    95    96    97    98    99  \n",
      "0   1.0   1.0   1.0   2.0   2.0   2.0   2.0   2.0   2.0  \n",
      "1   3.0   3.0   3.0   3.0   3.0   3.0   3.0   3.0   3.0  \n",
      "2   4.0   4.0   4.0   4.0   4.0   4.0   4.0   4.0   4.0  \n",
      "3   5.0   5.0   5.0   5.0   5.0   5.0   5.0   5.0   5.0  \n",
      "4   6.0   6.0   6.0   6.0   6.0   6.0   6.0   6.0   6.0  \n",
      "5   7.0   7.0   7.0   7.0   7.0   7.0   7.0   7.0   7.0  \n",
      "6   8.0   8.0   8.0   8.0   8.0   8.0   8.0   8.0   8.0  \n",
      "7   9.0   9.0   9.0   9.0   9.0   9.0   9.0   9.0   9.0  \n",
      "8  10.0  10.0  10.0  10.0  10.0  10.0  10.0  10.0  10.0  \n",
      "9  11.0  11.0  11.0  11.0  11.0  11.0  11.0  11.0  11.0  \n",
      "\n",
      "[10 rows x 100 columns]\n"
     ]
    }
   ],
   "source": [
    "q1_data_statistics(df)\n",
    "q2_smoothing(df)"
   ]
  }
 ],
 "metadata": {
  "kernelspec": {
   "display_name": "Python 3",
   "language": "python",
   "name": "python3"
  },
  "language_info": {
   "codemirror_mode": {
    "name": "ipython",
    "version": 3
   },
   "file_extension": ".py",
   "mimetype": "text/x-python",
   "name": "python",
   "nbconvert_exporter": "python",
   "pygments_lexer": "ipython3",
   "version": "3.6.3"
  }
 },
 "nbformat": 4,
 "nbformat_minor": 2
}
